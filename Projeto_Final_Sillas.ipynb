{
 "cells": [
  {
   "cell_type": "markdown",
   "metadata": {},
   "source": [
    "## Projeto Final - Curso de Python Coderhouse"
   ]
  },
  {
   "cell_type": "code",
   "execution_count": 57,
   "metadata": {},
   "outputs": [
    {
     "name": "stdout",
     "output_type": "stream",
     "text": [
      "Note: you may need to restart the kernel to use updated packages.\n"
     ]
    },
    {
     "name": "stderr",
     "output_type": "stream",
     "text": [
      "ERROR: Could not open requirements file: [Errno 2] No such file or directory: 'requirements.txt'\n"
     ]
    }
   ],
   "source": [
    "pip install -r requirements.txt"
   ]
  },
  {
   "cell_type": "code",
   "execution_count": 58,
   "metadata": {},
   "outputs": [],
   "source": [
    "import pandas as pd\n",
    "import requests\n",
    "import sqlite3\n",
    "import numpy as np\n",
    "from plyer import notification \n",
    "from datetime import datetime\n",
    "from dateutil.relativedelta import relativedelta"
   ]
  },
  {
   "cell_type": "markdown",
   "metadata": {},
   "source": [
    "### Criação do Alerta"
   ]
  },
  {
   "cell_type": "code",
   "execution_count": 59,
   "metadata": {},
   "outputs": [],
   "source": [
    "def alerta(nivel, base, etapa, erro=\"\"):\n",
    "    '''Função que gera um alerta de erro devido à falha no carregamento de base de dados, com informação do tipo de alerta e horário da falha'''\n",
    "\n",
    "    data_atual = str(datetime.now())\n",
    "\n",
    "    mensagem = f\"Falha no carregamento da base {base} na etapa {etapa} em {data_atual}\"\n",
    "\n",
    "    #Nível de alerta médio não compromete a execução do código, mas haverá falhas no tratamento\n",
    "    if nivel == 2:\n",
    "        title = 'ATENÇÃO: Alerta Médio'\n",
    "    #Nível de alerta alto compromete a execução do código, pois se refere à falha no carregamento dos dados\n",
    "    elif nivel  == 3:\n",
    "        title = 'ATENÇÃO: Alerta Alto'\n",
    "    else:\n",
    "        print(\"Nivel\",nivel,\"não disponível!\")\n",
    "        \n",
    "    notification.notify(\n",
    "            title=title,\n",
    "            message=mensagem,\n",
    "            app_name='alerta',\n",
    "            timeout=10\n",
    "        )\n",
    "            "
   ]
  },
  {
   "cell_type": "markdown",
   "metadata": {},
   "source": [
    "### Conexão às APIs"
   ]
  },
  {
   "cell_type": "code",
   "execution_count": 60,
   "metadata": {},
   "outputs": [],
   "source": [
    "def get_json_api(url):\n",
    "    '''Função requisição GET, retorna o json de saida da API da url e informa se houve erro'''\n",
    "\n",
    "    response = requests.get(url)\n",
    "\n",
    "    if response.status_code == 200:\n",
    "        data_json = response.json()\n",
    "        return data_json \n",
    "    "
   ]
  },
  {
   "cell_type": "code",
   "execution_count": 61,
   "metadata": {},
   "outputs": [],
   "source": [
    "#Tabela 1 - Taxa Selic\n",
    "def get_selic(data_inicial, data_final):\n",
    "    '''Requisição da tabela de valores definidos da Selic Anual por mês, filtrada pelo período indicado pelas datas no formato \"DD/MM/AAAA\"'''\n",
    "    \n",
    "    url_selic = f\"https://api.bcb.gov.br/dados/serie/bcdata.sgs.4189/dados?formato=json&dataInicial={data_inicial}&dataFinal={data_final}\"\n",
    "  \n",
    "    data_json = get_json_api(url_selic)\n",
    "    tabela_selic = pd.DataFrame(data_json)\n",
    "\n",
    "    return tabela_selic\n"
   ]
  },
  {
   "cell_type": "code",
   "execution_count": 62,
   "metadata": {},
   "outputs": [],
   "source": [
    "#Tabela 2 - IPCA\n",
    "def get_ipca(data_inicial, data_final):\n",
    "    '''Requisição da tabela de valores do IPCA por mês, filtrada pelo período indicado pelas datas no formato \"DD/MM/AAAA\"'''\n",
    "    \n",
    "    url_ipca = f\"http://api.bcb.gov.br/dados/serie/bcdata.sgs.433/dados?formato=json&dataInicial={data_inicial}&dataFinal={data_final}\"\n",
    "\n",
    "    data_json = get_json_api(url_ipca)\n",
    "    tabela_ipca = pd.DataFrame(data_json)\n",
    "\n",
    "    return tabela_ipca\n"
   ]
  },
  {
   "cell_type": "code",
   "execution_count": 63,
   "metadata": {},
   "outputs": [],
   "source": [
    "#Tabela 3 - IGP-M\n",
    "def get_igpm(data_inicial, data_final):\n",
    "    '''Requisição da tabela de valores do IGP-M por mês, filtrada pelo período indicado pelas datas no formato \"DD/MM/AAAA\"'''\n",
    "    \n",
    "    url_igpm = f\"https://api.bcb.gov.br/dados/serie/bcdata.sgs.189/dados?formato=json&dataInicial={data_inicial}&dataFinal={data_final}\"\n",
    "\n",
    "    data_json = get_json_api(url_igpm)\n",
    "    tabela_igpm = pd.DataFrame(data_json)\n",
    "\n",
    "    return tabela_igpm\n"
   ]
  },
  {
   "cell_type": "markdown",
   "metadata": {},
   "source": [
    "### Banco de Dados"
   ]
  },
  {
   "cell_type": "code",
   "execution_count": 64,
   "metadata": {},
   "outputs": [],
   "source": [
    "def tabelas_bd():\n",
    "    '''Retorna um dataframe com as tabelas do banco de dados'''\n",
    "\n",
    "    conn = sqlite3.connect('coderhouse.db')\n",
    "\n",
    "    #Executar uma consulta que retorna as informações do esquema do banco de dados\n",
    "    query = \"SELECT name FROM sqlite_master WHERE type='table'\"\n",
    "    schema = pd.read_sql_query(query, conn)\n",
    "\n",
    "    conn.close()\n",
    "\n",
    "    return schema\n",
    "\n",
    "def salva_bd(df, nome_tabela):\n",
    "    '''Salva dataframe df na tabela nome_tabela'''\n",
    "    conn = sqlite3.connect('coderhouse.db')\n",
    "\n",
    "    #Escrever o DataFrame na tabela 'nome_tabela'\n",
    "    df.to_sql(nome_tabela, conn, if_exists='replace', index=False)\n",
    "\n",
    "    conn.close()\n",
    "\n",
    "    return True\n",
    "\n",
    "def carrega_bd(nome_tabela):\n",
    "    '''Carrega tabela nome_tabela num dataframe'''\n",
    "    conn = sqlite3.connect('coderhouse.db')\n",
    "\n",
    "    #Executar uma consulta SELECT na tabela e converter em um DataFrame\n",
    "    query = f\"SELECT * FROM {nome_tabela}\"\n",
    "    df = pd.read_sql(query, conn)\n",
    "\n",
    "    conn.close()\n",
    "\n",
    "    return df"
   ]
  },
  {
   "cell_type": "markdown",
   "metadata": {},
   "source": [
    "### Extração das APIs"
   ]
  },
  {
   "cell_type": "code",
   "execution_count": 71,
   "metadata": {},
   "outputs": [],
   "source": [
    "def etapa_extracao(data_inicial, data_final):\n",
    "    '''Extrai os dados das APIs selecionadas e salva no banco de dados'''\n",
    "    \n",
    "    #1 - Selic\n",
    "    #roda função de requisição da api selic e salva no banco de dados\n",
    "    try:\n",
    "        df_selic = get_selic(data_inicial, data_final)\n",
    "        salva_bd(df_selic,\"selic_url\")\n",
    "    except Exception as e:\n",
    "        alerta(nivel = 3, \n",
    "               base = \"selic_url\", \n",
    "               etapa = \"EXTRACAO\", \n",
    "               erro=e)\n",
    "    \n",
    "    #2 - IPCA\n",
    "    #roda função de requisição da api ipca e salva no banco de dados\n",
    "    try:\n",
    "        df_ipca = get_ipca(data_inicial, data_final)\n",
    "        salva_bd(df_ipca,\"ipca_url\")\n",
    "    except Exception as e:\n",
    "        alerta(nivel = 3, \n",
    "               base = \"ipca_url\", \n",
    "               etapa = \"EXTRACAO\", \n",
    "               erro=e)    \n",
    "    #3 - IGP-M\n",
    "    #roda função de requisição da api igpm e salva no banco de dados\n",
    "    try:\n",
    "        df_igpm = get_igpm(data_inicial, data_final)\n",
    "        salva_bd(df_igpm,\"igpm_url\")\n",
    "    except Exception as e:\n",
    "        alerta(nivel = 3, \n",
    "               base = \"igpm_url\", \n",
    "               etapa = \"EXTRACAO\", \n",
    "               erro=e)            \n"
   ]
  },
  {
   "cell_type": "markdown",
   "metadata": {},
   "source": [
    "### Transformação e Tratamento dos Dados"
   ]
  },
  {
   "cell_type": "code",
   "execution_count": 66,
   "metadata": {},
   "outputs": [],
   "source": [
    "def etapa_transformacao():\n",
    "    \n",
    "    try:\n",
    "        ##Selic##\n",
    "        #Carrega e ajusta o nome da coluna de valor da selic do mes\n",
    "        df_selic = carrega_bd(\"selic_url\")\n",
    "        df_selic = df_selic.rename(columns={'valor':'valor_selic'})\n",
    "        salva_bd(df_selic,\"tabela_selic\")\n",
    "\n",
    "        ##IPCA##\n",
    "        #Carrega e ajusta o nome da coluna de valor do ipca do mes\n",
    "        df_ipca = carrega_bd(\"ipca_url\")\n",
    "        df_ipca = df_ipca.rename(columns={'valor':'valor_ipca'})\n",
    "        salva_bd(df_ipca,\"tabela_ipca\")\n",
    "\n",
    "        #Converte o valor do ipca para float e adiciona uma coluna com o ipca acumulado de 12 meses\n",
    "        df_ipca['valor_ipca'] = df_ipca['valor_ipca'].astype(float)\n",
    "        df_ipca['aux'] = 1 + (df_ipca['valor_ipca'] / 100)\n",
    "        df_ipca['ipca_acum_12'] = df_ipca['aux'].rolling(12).apply(np.prod, raw=True) - 1\n",
    "\n",
    "        #Ajuste para manter o ipca acumulado no mesmo formato do ipca mensal, com 2 casas decimais\n",
    "        df_ipca['ipca_acum_12'] = df_ipca['ipca_acum_12'] * 100\n",
    "        df_ipca['ipca_acum_12'] = df_ipca['ipca_acum_12'].round(2)\n",
    "        \n",
    "        #Drop da coluna aux utilizada no cálculo do ipca acumulado\n",
    "        df_ipca = df_ipca.drop(columns='aux')\n",
    "\n",
    "        ##IGP-M##\n",
    "        #Carrega e ajusta o nome da coluna de valor do igpm do mes\n",
    "        df_igpm = carrega_bd(\"igpm_url\")\n",
    "        df_igpm = df_igpm.rename(columns={'valor':'valor_igpm'})\n",
    "        salva_bd(df_igpm,\"tabela_igpm\")\n",
    "        \n",
    "        #Converte o valor do igpm para float e adiciona uma coluna com o igpm acumulado de 12 meses\n",
    "        df_igpm['valor_igpm'] = df_igpm['valor_igpm'].astype(float)\n",
    "        df_igpm['aux'] = 1 + (df_igpm['valor_igpm'] / 100)\n",
    "        df_igpm['igpm_acum_12'] = df_igpm['aux'].rolling(12).apply(np.prod, raw=True) - 1\n",
    "\n",
    "        #Ajuste para manter o igpm acumulado no mesmo formato do igpm mensal, com 2 casas decimais\n",
    "        df_igpm['igpm_acum_12'] = df_igpm['igpm_acum_12'] * 100\n",
    "        df_igpm['igpm_acum_12'] = df_igpm['igpm_acum_12'].round(2)\n",
    "        \n",
    "        #Drop da coluna aux utilizada no cálculo do igpm acumulado\n",
    "        df_igpm = df_igpm.drop(columns='aux')    \n",
    "\n",
    "        #Fazendo os joins das tabelas\n",
    "        df_selic = df_selic.merge(df_ipca, on=['data'],how='left')\n",
    "        df_selic = df_selic.merge(df_igpm, on=['data'],how='left')\n",
    "\n",
    "        salva_bd(df_selic,\"tabela_indices\")\n",
    "        print(\"tabela_indices salva\")\n",
    "    except Exception as e:\n",
    "        alerta(nivel = 2, \n",
    "               base = \"tabela_indices\", \n",
    "               etapa = \"TRANSFORMACAO\", \n",
    "               erro=e)\n"
   ]
  },
  {
   "cell_type": "markdown",
   "metadata": {},
   "source": [
    "### Execução"
   ]
  },
  {
   "cell_type": "code",
   "execution_count": 67,
   "metadata": {},
   "outputs": [
    {
     "name": "stdout",
     "output_type": "stream",
     "text": [
      "06/09/2021\n",
      "06/09/2024\n"
     ]
    }
   ],
   "source": [
    "#Tratamento para consultar 3 anos de dados das tabelas, considerando data atual\n",
    "data_inicial = datetime.now() - relativedelta(years=3)\n",
    "data_inicial_ajust = data_inicial.strftime(\"%d/%m/%Y\")\n",
    "\n",
    "data_final = datetime.now()\n",
    "data_final_ajust = data_final.strftime(\"%d/%m/%Y\")\n",
    "\n",
    "print(data_inicial_ajust)\n",
    "print(data_final_ajust)\n",
    "etapa_extracao(data_inicial_ajust,data_final_ajust)"
   ]
  },
  {
   "cell_type": "code",
   "execution_count": 68,
   "metadata": {},
   "outputs": [
    {
     "name": "stdout",
     "output_type": "stream",
     "text": [
      "tabela_indices salva\n"
     ]
    }
   ],
   "source": [
    "etapa_transformacao()"
   ]
  },
  {
   "cell_type": "markdown",
   "metadata": {},
   "source": [
    "### Carregamento da Base no Banco"
   ]
  },
  {
   "cell_type": "code",
   "execution_count": 69,
   "metadata": {},
   "outputs": [
    {
     "name": "stdout",
     "output_type": "stream",
     "text": [
      "          data valor_selic  valor_ipca  ipca_acum_12  valor_igpm  igpm_acum_12\n",
      "0   01/09/2021        5.43        1.16           NaN       -0.64           NaN\n",
      "1   01/10/2021        6.30        1.25           NaN        0.64           NaN\n",
      "2   01/11/2021        7.65        0.95           NaN        0.02           NaN\n",
      "3   01/12/2021        8.76        0.73           NaN        0.87           NaN\n",
      "4   01/01/2022        9.15        0.54           NaN        1.82           NaN\n",
      "5   01/02/2022       10.49        1.01           NaN        1.83           NaN\n",
      "6   01/03/2022       11.15        1.62           NaN        1.74           NaN\n",
      "7   01/04/2022       11.65        1.06           NaN        1.41           NaN\n",
      "8   01/05/2022       12.51        0.47           NaN        0.52           NaN\n",
      "9   01/06/2022       12.89        0.67           NaN        0.59           NaN\n",
      "10  01/07/2022       13.15       -0.68           NaN        0.21           NaN\n",
      "11  01/08/2022       13.58       -0.36          8.73       -0.70          8.59\n",
      "12  01/09/2022       13.65       -0.29          7.17       -0.95          8.25\n",
      "13  01/10/2022       13.65        0.59          6.47       -0.97          6.52\n",
      "14  01/11/2022       13.65        0.41          5.90       -0.56          5.90\n",
      "15  01/12/2022       13.65        0.62          5.78        0.45          5.46\n",
      "16  01/01/2023       13.65        0.53          5.77        0.21          3.79\n",
      "17  01/02/2023       13.65        0.84          5.60       -0.06          1.86\n",
      "18  01/03/2023       13.65        0.71          4.65        0.05          0.17\n",
      "19  01/04/2023       13.65        0.61          4.18       -0.95         -2.16\n",
      "20  01/05/2023       13.65        0.23          3.94       -1.84         -4.46\n",
      "21  01/06/2023       13.65       -0.08          3.16       -1.93         -6.85\n",
      "22  01/07/2023       13.65        0.12          3.99       -0.72         -7.71\n",
      "23  01/08/2023       13.19        0.23          4.61       -0.14         -7.19\n",
      "24  01/09/2023       12.97        0.26          5.19        0.37         -5.96\n",
      "25  01/10/2023       12.65        0.24          4.82        0.50         -4.56\n",
      "26  01/11/2023       12.17        0.28          4.68        0.59         -3.46\n",
      "27  01/12/2023       11.87        0.56          4.62        0.74         -3.18\n",
      "28  01/01/2024       11.65        0.42          4.51        0.07         -3.31\n",
      "29  01/02/2024       11.15        0.83          4.50       -0.52         -3.76\n",
      "30  01/03/2024       11.00        0.16          3.93       -0.47         -4.26\n",
      "31  01/04/2024       10.65        0.38          3.69        0.31         -3.04\n",
      "32  01/05/2024       10.46        0.46          3.93        0.89         -0.34\n",
      "33  01/06/2024       10.40        0.21          4.23        0.81          2.44\n",
      "34  01/07/2024       10.40        0.38          4.50        0.61          3.81\n",
      "35  01/08/2024       10.40         NaN           NaN        0.29          4.26\n",
      "36  01/09/2024       10.40         NaN           NaN         NaN           NaN\n"
     ]
    }
   ],
   "source": [
    "df = carrega_bd(\"tabela_indices\")\n",
    "print(df)"
   ]
  },
  {
   "cell_type": "code",
   "execution_count": 70,
   "metadata": {},
   "outputs": [
    {
     "data": {
      "text/html": [
       "<div>\n",
       "<style scoped>\n",
       "    .dataframe tbody tr th:only-of-type {\n",
       "        vertical-align: middle;\n",
       "    }\n",
       "\n",
       "    .dataframe tbody tr th {\n",
       "        vertical-align: top;\n",
       "    }\n",
       "\n",
       "    .dataframe thead th {\n",
       "        text-align: right;\n",
       "    }\n",
       "</style>\n",
       "<table border=\"1\" class=\"dataframe\">\n",
       "  <thead>\n",
       "    <tr style=\"text-align: right;\">\n",
       "      <th></th>\n",
       "      <th>name</th>\n",
       "    </tr>\n",
       "  </thead>\n",
       "  <tbody>\n",
       "    <tr>\n",
       "      <th>0</th>\n",
       "      <td>01/01/2022</td>\n",
       "    </tr>\n",
       "    <tr>\n",
       "      <th>1</th>\n",
       "      <td>nome_tabela</td>\n",
       "    </tr>\n",
       "    <tr>\n",
       "      <th>2</th>\n",
       "      <td>tabela_indices_2</td>\n",
       "    </tr>\n",
       "    <tr>\n",
       "      <th>3</th>\n",
       "      <td>selic_url</td>\n",
       "    </tr>\n",
       "    <tr>\n",
       "      <th>4</th>\n",
       "      <td>ipca_url</td>\n",
       "    </tr>\n",
       "    <tr>\n",
       "      <th>5</th>\n",
       "      <td>igpm_url</td>\n",
       "    </tr>\n",
       "    <tr>\n",
       "      <th>6</th>\n",
       "      <td>tabela_selic</td>\n",
       "    </tr>\n",
       "    <tr>\n",
       "      <th>7</th>\n",
       "      <td>tabela_ipca</td>\n",
       "    </tr>\n",
       "    <tr>\n",
       "      <th>8</th>\n",
       "      <td>tabela_igpm</td>\n",
       "    </tr>\n",
       "    <tr>\n",
       "      <th>9</th>\n",
       "      <td>tabela_indices</td>\n",
       "    </tr>\n",
       "  </tbody>\n",
       "</table>\n",
       "</div>"
      ],
      "text/plain": [
       "               name\n",
       "0        01/01/2022\n",
       "1       nome_tabela\n",
       "2  tabela_indices_2\n",
       "3         selic_url\n",
       "4          ipca_url\n",
       "5          igpm_url\n",
       "6      tabela_selic\n",
       "7       tabela_ipca\n",
       "8       tabela_igpm\n",
       "9    tabela_indices"
      ]
     },
     "execution_count": 70,
     "metadata": {},
     "output_type": "execute_result"
    }
   ],
   "source": [
    "tabelas_bd()"
   ]
  }
 ],
 "metadata": {
  "kernelspec": {
   "display_name": "Python 3",
   "language": "python",
   "name": "python3"
  },
  "language_info": {
   "codemirror_mode": {
    "name": "ipython",
    "version": 3
   },
   "file_extension": ".py",
   "mimetype": "text/x-python",
   "name": "python",
   "nbconvert_exporter": "python",
   "pygments_lexer": "ipython3",
   "version": "3.12.4"
  }
 },
 "nbformat": 4,
 "nbformat_minor": 2
}
